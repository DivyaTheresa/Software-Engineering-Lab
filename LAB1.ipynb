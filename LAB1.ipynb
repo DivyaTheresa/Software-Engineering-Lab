{
  "nbformat": 4,
  "nbformat_minor": 0,
  "metadata": {
    "colab": {
      "provenance": []
    },
    "kernelspec": {
      "name": "python3",
      "display_name": "Python 3"
    },
    "language_info": {
      "name": "python"
    }
  },
  "cells": [
    {
      "cell_type": "markdown",
      "source": [
        "Hard-coded example:"
      ],
      "metadata": {
        "id": "m-8bIMd5mzY6"
      }
    },
    {
      "cell_type": "code",
      "execution_count": null,
      "metadata": {
        "colab": {
          "base_uri": "https://localhost:8080/"
        },
        "id": "Qo_cQahelpLE",
        "outputId": "3de7f1b6-0cd1-4e24-eb83-c812ceb92fbc"
      },
      "outputs": [
        {
          "output_type": "stream",
          "name": "stdout",
          "text": [
            "Roots: 2.0, 1.0\n"
          ]
        }
      ],
      "source": [
        "temperature = 1\n",
        "pressure = -3\n",
        "humidity = 2\n",
        "\n",
        "import math\n",
        "\n",
        "discriminant = pressure**2 - 4*temperature*humidity\n",
        "\n",
        "if discriminant >= 0:\n",
        "    root1 = (-pressure+ math.sqrt(discriminant)) / (2 * temperature)\n",
        "    root2 = (-pressure - math.sqrt(discriminant)) / (2 * temperature)\n",
        "    print(f\"Roots: {root1}, {root2}\")\n",
        "else:\n",
        "    print(\"No real roots\")\n"
      ]
    },
    {
      "cell_type": "markdown",
      "source": [
        "Accepting input from the keyboard"
      ],
      "metadata": {
        "id": "30Eim3iJpepq"
      }
    },
    {
      "cell_type": "code",
      "source": [
        "temperature = float(input(\"Enter coefficient temperature: \"))\n",
        "pressure = float(input(\"Enter coefficient pressure : \"))\n",
        "humidity = float(input(\"Enter coefficient humidity: \"))\n",
        "\n",
        "discriminant = pressure**2 - 4*temperature*humidity\n",
        "\n",
        "if discriminant >= 0:\n",
        "    root1 = (-pressure + math.sqrt(discriminant)) / (2 * temperature)\n",
        "    root2 = (-pressure - math.sqrt(discriminant)) / (2 * temperature)\n",
        "    print(f\"Roots: {root1}, {root2}\")\n",
        "else:\n",
        "    print(\"No real roots\")\n"
      ],
      "metadata": {
        "colab": {
          "base_uri": "https://localhost:8080/"
        },
        "id": "nzWlSOPNon-9",
        "outputId": "3db207e1-15a9-4f8b-9b1a-7ad9de478cba"
      },
      "execution_count": null,
      "outputs": [
        {
          "output_type": "stream",
          "name": "stdout",
          "text": [
            "Enter coefficient temperature: 1\n",
            "Enter coefficient pressure : -3\n",
            "Enter coefficient humidity: 2\n",
            "Roots: 2.0, 1.0\n"
          ]
        }
      ]
    },
    {
      "cell_type": "markdown",
      "source": [
        "Read from a file\n",
        "For a single set of input"
      ],
      "metadata": {
        "id": "b0Q9lr5Jqwsk"
      }
    },
    {
      "cell_type": "code",
      "source": [
        "with open(\"coefficients.txt\", \"r\") as file:\n",
        "    data = file.readline()\n",
        "    temperature, pressure, humidity = map(float, data.split())\n",
        "\n",
        "discriminant = pressure**2 - 4*temperature*humidity\n",
        "\n",
        "if discriminant >= 0:\n",
        "    root1 = (-pressure + math.sqrt(discriminant)) / (2 * temperature)\n",
        "    root2 = (-pressure - math.sqrt(discriminant)) / (2 * temperature)\n",
        "    print(f\"Roots: {root1}, {root2}\")\n",
        "else:\n",
        "    print(\"No real roots\")\n"
      ],
      "metadata": {
        "colab": {
          "base_uri": "https://localhost:8080/"
        },
        "id": "m4CVXPH_qvRQ",
        "outputId": "757b269e-ad09-46d9-cc50-7fd136d49d82"
      },
      "execution_count": null,
      "outputs": [
        {
          "output_type": "stream",
          "name": "stdout",
          "text": [
            "Roots: 2.0, 1.0\n"
          ]
        }
      ]
    },
    {
      "cell_type": "markdown",
      "source": [
        "Read from a file For a Multiple set of input"
      ],
      "metadata": {
        "id": "zXzMcWJasNVS"
      }
    },
    {
      "cell_type": "code",
      "source": [
        "with open(\"coefficients.txt\", \"r\") as file:\n",
        "    lines = file.readlines()\n",
        "\n",
        "for line in lines:\n",
        "    temperature, pressure, humidity = map(float, line.split())\n",
        "    discriminant = pressure**2 - 4*temperature*humidity\n",
        "\n",
        "    print(f\"Solving for coefficients temperature={temperature}, pressure={pressure}, humidity={humidity}:\")\n",
        "    if discriminant >= 0:\n",
        "        root1 = (-pressure+ math.sqrt(discriminant)) / (2 * temperature)\n",
        "        root2 = (-pressure - math.sqrt(discriminant)) / (2 * temperature)\n",
        "        print(f\"  Roots: {root1}, {root2}\")\n",
        "    else:\n",
        "        print(\"  No real roots\")\n"
      ],
      "metadata": {
        "colab": {
          "base_uri": "https://localhost:8080/"
        },
        "id": "i25CbY2qsLe8",
        "outputId": "7ac1fc2e-d35a-46ed-bf55-eaddd0637095"
      },
      "execution_count": null,
      "outputs": [
        {
          "output_type": "stream",
          "name": "stdout",
          "text": [
            "Solving for coefficients temperature=1.0, pressure=-3.0, humidity=2.0:\n",
            "  Roots: 2.0, 1.0\n",
            "Solving for coefficients temperature=2.0, pressure=-4.0, humidity=-6.0:\n",
            "  Roots: 3.0, -1.0\n",
            "Solving for coefficients temperature=3.0, pressure=5.0, humidity=-1.0:\n",
            "  Roots: 0.1804604217163699, -1.8471270883830364\n"
          ]
        }
      ]
    }
  ]
}